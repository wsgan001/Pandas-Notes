{
 "cells": [
  {
   "cell_type": "markdown",
   "metadata": {},
   "source": [
    "pandas试图绘制带缺失值的DataFrame或Series."
   ]
  },
  {
   "cell_type": "markdown",
   "metadata": {},
   "source": [
    "图|处理方式\n",
    "----|----\n",
    "线图|在缺失处留下空隙\n",
    "线图(堆叠)|填充0\n",
    "柱状图|填充0\n",
    "散点图|去除缺失值\n",
    "直方图|逐列去除缺失值\n",
    "箱形图|逐列删除缺失值\n",
    "面积图|填充0\n",
    "KDE|逐列删除缺失值\n",
    "Hexbin|删除缺失值\n",
    "饼图|填充0"
   ]
  },
  {
   "cell_type": "code",
   "execution_count": null,
   "metadata": {
    "collapsed": true
   },
   "outputs": [],
   "source": []
  }
 ],
 "metadata": {
  "kernelspec": {
   "display_name": "Python 2",
   "language": "python",
   "name": "python2"
  },
  "language_info": {
   "codemirror_mode": {
    "name": "ipython",
    "version": 2
   },
   "file_extension": ".py",
   "mimetype": "text/x-python",
   "name": "python",
   "nbconvert_exporter": "python",
   "pygments_lexer": "ipython2",
   "version": "2.7.13"
  }
 },
 "nbformat": 4,
 "nbformat_minor": 2
}
