{
 "cells": [
  {
   "cell_type": "markdown",
   "metadata": {},
   "source": [
    "- legend: 是否显示图例(默认True,显示)\n",
    "- logx: x轴刻度\n",
    "- logy: y轴刻度\n",
    "- loglog\n",
    "- secondary_y: 辅助y轴(右侧的y轴), 默认为False\n",
    "    在DataFrame中绘制某些列，请为secondary_y关键字指定列名称\n",
    "     `df.plot(secondary_y=['A', 'B'])`\n",
    "- x_compat\n",
    "- subplots: 是否绘制在不同轴\n",
    "- layout=(2, 3) 子图两行三列\n",
    "- figsize=(6, 6) 画布大小\n",
    "- sharex 是否共享x轴\n",
    "- sharey\n",
    "- ax: 传递给Series.plot()以绘制特定轴\n",
    "- yerr: y的误差项\n",
    "- table: 是否将数据绘制成表, 默认False\n",
    "- colormap: 字符串或matplotlib colormap对象, 用来设置颜色映射"
   ]
  }
 ],
 "metadata": {
  "kernelspec": {
   "display_name": "Python 2",
   "language": "python",
   "name": "python2"
  },
  "language_info": {
   "codemirror_mode": {
    "name": "ipython",
    "version": 2
   },
   "file_extension": ".py",
   "mimetype": "text/x-python",
   "name": "python",
   "nbconvert_exporter": "python",
   "pygments_lexer": "ipython2",
   "version": "2.7.13"
  }
 },
 "nbformat": 4,
 "nbformat_minor": 2
}
